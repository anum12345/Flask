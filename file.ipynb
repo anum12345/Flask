{
 "cells": [
  {
   "cell_type": "code",
   "execution_count": 2,
   "metadata": {},
   "outputs": [
    {
     "name": "stdout",
     "output_type": "stream",
     "text": [
      "Requirement already satisfied: flask in c:\\users\\dell\\anaconda3\\envs\\jupyter_gpt\\lib\\site-packages (2.3.3)\n",
      "Requirement already satisfied: Flask-SQLAlchemy in c:\\users\\dell\\anaconda3\\envs\\jupyter_gpt\\lib\\site-packages (3.0.5)\n",
      "Requirement already satisfied: click>=8.1.3 in c:\\users\\dell\\anaconda3\\envs\\jupyter_gpt\\lib\\site-packages (from flask) (8.1.7)\n",
      "Requirement already satisfied: itsdangerous>=2.1.2 in c:\\users\\dell\\anaconda3\\envs\\jupyter_gpt\\lib\\site-packages (from flask) (2.1.2)\n",
      "Requirement already satisfied: Werkzeug>=2.3.7 in c:\\users\\dell\\anaconda3\\envs\\jupyter_gpt\\lib\\site-packages (from flask) (2.3.7)\n",
      "Requirement already satisfied: blinker>=1.6.2 in c:\\users\\dell\\anaconda3\\envs\\jupyter_gpt\\lib\\site-packages (from flask) (1.6.2)\n",
      "Requirement already satisfied: Jinja2>=3.1.2 in c:\\users\\dell\\anaconda3\\envs\\jupyter_gpt\\lib\\site-packages (from flask) (3.1.2)\n",
      "Requirement already satisfied: importlib-metadata>=3.6.0 in c:\\users\\dell\\anaconda3\\envs\\jupyter_gpt\\lib\\site-packages (from flask) (6.0.0)\n",
      "Requirement already satisfied: sqlalchemy>=1.4.18 in c:\\users\\dell\\anaconda3\\envs\\jupyter_gpt\\lib\\site-packages (from Flask-SQLAlchemy) (2.0.20)\n",
      "Requirement already satisfied: colorama in c:\\users\\dell\\anaconda3\\envs\\jupyter_gpt\\lib\\site-packages (from click>=8.1.3->flask) (0.4.6)\n",
      "Requirement already satisfied: zipp>=0.5 in c:\\users\\dell\\anaconda3\\envs\\jupyter_gpt\\lib\\site-packages (from importlib-metadata>=3.6.0->flask) (3.11.0)\n",
      "Requirement already satisfied: MarkupSafe>=2.0 in c:\\users\\dell\\anaconda3\\envs\\jupyter_gpt\\lib\\site-packages (from Jinja2>=3.1.2->flask) (2.1.1)\n",
      "Requirement already satisfied: greenlet!=0.4.17 in c:\\users\\dell\\anaconda3\\envs\\jupyter_gpt\\lib\\site-packages (from sqlalchemy>=1.4.18->Flask-SQLAlchemy) (2.0.2)\n",
      "Requirement already satisfied: typing-extensions>=4.2.0 in c:\\users\\dell\\anaconda3\\envs\\jupyter_gpt\\lib\\site-packages (from sqlalchemy>=1.4.18->Flask-SQLAlchemy) (4.5.0)\n",
      "Note: you may need to restart the kernel to use updated packages.\n"
     ]
    }
   ],
   "source": [
    "\n",
    "pip install flask Flask-SQLAlchemy"
   ]
  },
  {
   "cell_type": "code",
   "execution_count": 1,
   "metadata": {},
   "outputs": [],
   "source": [
    "from app import app,db\n"
   ]
  },
  {
   "cell_type": "code",
   "execution_count": 2,
   "metadata": {},
   "outputs": [],
   "source": [
    "try:\n",
    "    with app.app_context():\n",
    "        db.create_all()\n",
    "except Exception as e:\n",
    "    print(f\"An error occurred while creating the database: {str(e)}\")\n"
   ]
  },
  {
   "cell_type": "code",
   "execution_count": null,
   "metadata": {},
   "outputs": [],
   "source": []
  }
 ],
 "metadata": {
  "kernelspec": {
   "display_name": "gpt_luck",
   "language": "python",
   "name": "gpt_luck"
  },
  "language_info": {
   "codemirror_mode": {
    "name": "ipython",
    "version": 3
   },
   "file_extension": ".py",
   "mimetype": "text/x-python",
   "name": "python",
   "nbconvert_exporter": "python",
   "pygments_lexer": "ipython3",
   "version": "3.9.7"
  },
  "orig_nbformat": 4
 },
 "nbformat": 4,
 "nbformat_minor": 2
}
